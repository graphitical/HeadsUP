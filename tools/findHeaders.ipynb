{
  "nbformat": 4,
  "nbformat_minor": 0,
  "metadata": {
    "colab": {
      "name": "findHeaders.ipynb",
      "provenance": [],
      "collapsed_sections": [],
      "include_colab_link": true
    },
    "kernelspec": {
      "name": "python3",
      "display_name": "Python 3"
    }
  },
  "cells": [
    {
      "cell_type": "markdown",
      "metadata": {
        "id": "view-in-github",
        "colab_type": "text"
      },
      "source": [
        "<a href=\"https://colab.research.google.com/github/graphitical/HeadsUP/blob/master/tools/findHeaders.ipynb\" target=\"_parent\"><img src=\"https://colab.research.google.com/assets/colab-badge.svg\" alt=\"Open In Colab\"/></a>"
      ]
    },
    {
      "cell_type": "markdown",
      "metadata": {
        "id": "QlgitgMUlhCX"
      },
      "source": [
        "# Imports"
      ]
    },
    {
      "cell_type": "code",
      "metadata": {
        "id": "zb7TxX0blhmu"
      },
      "source": [
        "import os\n",
        "from bs4 import BeautifulSoup\n",
        "import re\n",
        "from google.colab import files\n",
        "import csv"
      ],
      "execution_count": 2,
      "outputs": []
    },
    {
      "cell_type": "markdown",
      "metadata": {
        "id": "D20zLfsvl2cZ"
      },
      "source": [
        "# Mount Google Drive"
      ]
    },
    {
      "cell_type": "code",
      "metadata": {
        "colab": {
          "base_uri": "https://localhost:8080/"
        },
        "id": "Bi4GVAGkl21d",
        "outputId": "d5478216-625c-42df-c6bc-52b826d04812"
      },
      "source": [
        "# Use this to mount your google account that has\n",
        "# access to the shared drive\n",
        "import os, sys, datetime\n",
        "from google.colab import drive\n",
        "drive.mount('/gdrive')\n",
        "\n",
        "# Change dir to shared drive\n",
        "BASE_PATH = '/gdrive/Shareddrives/deep learning and PDF accessibility/'\n",
        "DATA_PATH = 'dataset/CHI-2019/'\n",
        "os.chdir(BASE_PATH)\n",
        "!pwd "
      ],
      "execution_count": 1,
      "outputs": [
        {
          "output_type": "stream",
          "text": [
            "Mounted at /gdrive\n",
            "/gdrive/Shareddrives/deep learning and PDF accessibility\n"
          ],
          "name": "stdout"
        }
      ]
    },
    {
      "cell_type": "markdown",
      "metadata": {
        "id": "PVTQp0vWm4lh"
      },
      "source": [
        "# Grab headers"
      ]
    },
    {
      "cell_type": "code",
      "metadata": {
        "colab": {
          "base_uri": "https://localhost:8080/"
        },
        "id": "B3jpAlG4wvub",
        "outputId": "0bfa2f31-ea40-452d-bc54-2866b7356321"
      },
      "source": [
        "from pathlib import Path\n",
        "\n",
        "csv_fields = ['Paper Title', 'Text', 'Heading Level']\n",
        "csv_filename = os.path.join(BASE_PATH,DATA_PATH,\"header_data.csv\")\n",
        "\n",
        "DIRS = [os.path.join(BASE_PATH,DATA_PATH,'CHI-2019-htmls-incomplete')]\n",
        "\n",
        "fcount = 0\n",
        "# open csv file\n",
        "with open(csv_filename, 'w') as header_data:  \n",
        "  # write column info\n",
        "  csvwriter = csv.writer(header_data)  \n",
        "  csvwriter.writerow(csv_fields)\n",
        "  \n",
        "  # cycle through DIRS\n",
        "  for DIR in DIRS:\n",
        "    # get all the html files in the dir\n",
        "    html_files = Path(DIR).rglob('*.htm*')\n",
        "\n",
        "    for html_file in html_files:\n",
        "      \n",
        "      # paper filename\n",
        "      paper_filename = html_file.name\n",
        "      \n",
        "      # soup up the html file\n",
        "      with open(html_file) as f:\n",
        "        soup = BeautifulSoup(f.read(), 'html.parser')\n",
        "        headings = soup.find_all(['h1', 'h2', 'h3', 'h4', 'h5'])\n",
        "        \n",
        "        # write the headers to csv\n",
        "        for h in headings:\n",
        "          csvwriter.writerow([paper_filename, h.text, h.name])\n",
        "\n",
        "      fcount += 1\n",
        "      if fcount % 50 == 0: print(fcount)\n",
        "      # if fcount > 3: break"
      ],
      "execution_count": 35,
      "outputs": [
        {
          "output_type": "stream",
          "text": [
            "100\n",
            "200\n",
            "300\n",
            "400\n",
            "500\n"
          ],
          "name": "stdout"
        }
      ]
    }
  ]
}